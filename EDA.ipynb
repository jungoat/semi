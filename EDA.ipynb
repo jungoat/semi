{
 "cells": [
  {
   "cell_type": "code",
   "execution_count": 3,
   "id": "4c61d19a",
   "metadata": {},
   "outputs": [
    {
     "name": "stdout",
     "output_type": "stream",
     "text": [
      "label\n",
      "0    0.894466\n",
      "1    0.105534\n",
      "Name: proportion, dtype: float64\n",
      "label\n",
      "0    0.890438\n",
      "1    0.109562\n",
      "Name: proportion, dtype: float64\n"
     ]
    }
   ],
   "source": [
    "import os\n",
    "import pandas as pd\n",
    "import numpy as np\n",
    "from collections import Counter\n",
    "from PIL import Image\n",
    "\n",
    "meta_dir = \"data/meta\"\n",
    "train_img_dir = \"data/train/img\"\n",
    "test_img_dir = \"data/test/img\"\n",
    "\n",
    "train_df = pd.read_csv(os.path.join(meta_dir, \"train.csv\"))\n",
    "test_df = pd.read_csv(os.path.join(meta_dir, \"test.csv\"))\n",
    "\n",
    "print(train_df['label'].value_counts(normalize=True))\n",
    "print(test_df['label'].value_counts(normalize=True))"
   ]
  },
  {
   "cell_type": "code",
   "execution_count": 4,
   "id": "44866229",
   "metadata": {},
   "outputs": [
    {
     "name": "stdout",
     "output_type": "stream",
     "text": [
      "Counter({(642, 227, 3): 1, (649, 222, 3): 1, (624, 229, 3): 1, (630, 229, 3): 1, (643, 228, 3): 1, (639, 229, 3): 1, (640, 230, 3): 1, (641, 230, 3): 1, (632, 232, 3): 1, (643, 231, 3): 1})\n",
      "Counter({(644, 231, 3): 1, (632, 233, 3): 1, (628, 226, 3): 1, (643, 229, 3): 1, (629, 230, 3): 1, (638, 223, 3): 1, (641, 231, 3): 1, (637, 230, 3): 1, (637, 227, 3): 1, (636, 230, 3): 1})\n",
      "10 175\n"
     ]
    }
   ],
   "source": [
    "def analyze_images(img_dir, df):\n",
    "    shapes = []\n",
    "    for fname in df['filename'].head(10):\n",
    "        img_path = os.path.join(img_dir, fname)\n",
    "        img = Image.open(img_path)\n",
    "        shapes.append(np.array(img).shape)\n",
    "    shape_counts = Counter(shapes)\n",
    "    return shape_counts\n",
    "\n",
    "print(analyze_images(train_img_dir, train_df))\n",
    "print(analyze_images(test_img_dir, test_df))\n",
    "\n",
    "sample_img = Image.open(os.path.join(train_img_dir, train_df['filename'].iloc[0]))\n",
    "arr = np.array(sample_img)\n",
    "print(arr.min(), arr.max())"
   ]
  },
  {
   "cell_type": "code",
   "execution_count": 9,
   "id": "c8005fe0",
   "metadata": {},
   "outputs": [
    {
     "data": {
      "image/png": "[encoded data removed]",
      "text/plain": [
       "<Figure size 1000x400 with 2 Axes>"
      ]
     },
     "metadata": {},
     "output_type": "display_data"
    },
    {
     "name": "stdout",
     "output_type": "stream",
     "text": [
      "Average variance per channel (R, G, B): [84.15682934 69.14708229 67.87569047]\n",
      "Average correlation between channels (R-G, R-B, G-B): [0.95692645 0.90361602 0.95829388]\n"
     ]
    }
   ],
   "source": [
    "import os\n",
    "import cv2\n",
    "import numpy as np\n",
    "import matplotlib.pyplot as plt\n",
    "\n",
    "img_dir = \"data/train/img\"\n",
    "sample_images = [os.path.join(img_dir, f) for f in os.listdir(img_dir) if f.lower().endswith(\".png\")][:50]\n",
    "\n",
    "variances = []\n",
    "correlations = []\n",
    "\n",
    "for img_path in sample_images:\n",
    "    img = cv2.imread(img_path)\n",
    "    if img is None:\n",
    "        continue\n",
    "    img_rgb = cv2.cvtColor(img, cv2.COLOR_BGR2RGB)\n",
    "    \n",
    "    # 채널별 분산\n",
    "    var_r = np.var(img_rgb[:, :, 0])\n",
    "    var_g = np.var(img_rgb[:, :, 1])\n",
    "    var_b = np.var(img_rgb[:, :, 2])\n",
    "    variances.append([var_r, var_g, var_b])\n",
    "    \n",
    "    # 채널 간 상관계수 계산 (분산이 0이면 1로 처리)\n",
    "    def safe_corr(a, b):\n",
    "        if np.std(a) == 0 or np.std(b) == 0:\n",
    "            return 1.0\n",
    "        return np.corrcoef(a, b)[0, 1]\n",
    "    \n",
    "    r = img_rgb[:, :, 0].flatten()\n",
    "    g = img_rgb[:, :, 1].flatten()\n",
    "    b = img_rgb[:, :, 2].flatten()\n",
    "    \n",
    "    corr_rg = safe_corr(r, g)\n",
    "    corr_rb = safe_corr(r, b)\n",
    "    corr_gb = safe_corr(g, b)\n",
    "    \n",
    "    correlations.append([corr_rg, corr_rb, corr_gb])\n",
    "\n",
    "variances_mean = np.mean(variances, axis=0)\n",
    "correlations_mean = np.mean(correlations, axis=0)\n",
    "\n",
    "# 시각화\n",
    "fig, axs = plt.subplots(1, 2, figsize=(10, 4))\n",
    "\n",
    "axs[0].bar(['R', 'G', 'B'], variances_mean, color=['red', 'green', 'blue'])\n",
    "axs[0].set_title('Average Variance per Channel')\n",
    "axs[0].set_ylabel('Variance')\n",
    "\n",
    "axs[1].bar(['R-G', 'R-B', 'G-B'], correlations_mean, color='gray')\n",
    "axs[1].set_title('Average Correlation Between Channels')\n",
    "axs[1].set_ylabel('Correlation Coefficient')\n",
    "axs[1].set_ylim(0, 1)\n",
    "\n",
    "plt.tight_layout()\n",
    "plt.show()\n",
    "\n",
    "print(\"Average variance per channel (R, G, B):\", variances_mean)\n",
    "print(\"Average correlation between channels (R-G, R-B, G-B):\", correlations_mean)\n"
   ]
  },
  {
   "cell_type": "markdown",
   "id": "cc8b322f",
   "metadata": {},
   "source": [
    "### 채널 간 분산 차이가 크지 않음.\n",
    "### 채널 상관계수 모든 값이 0.9이상임. 보통 이러면 채널 각 픽셀 패턴이 거의 동일함.\n",
    "### RGB가 거의 중복된 정보를 포함하므로, 밝기정보가 핵심임"
   ]
  },
  {
   "cell_type": "code",
   "execution_count": null,
   "id": "0ebd3645",
   "metadata": {},
   "outputs": [],
   "source": []
  }
 ],
 "metadata": {
  "kernelspec": {
   "display_name": "ami4",
   "language": "python",
   "name": "python3"
  },
  "language_info": {
   "codemirror_mode": {
    "name": "ipython",
    "version": 3
   },
   "file_extension": ".py",
   "mimetype": "text/x-python",
   "name": "python",
   "nbconvert_exporter": "python",
   "pygments_lexer": "ipython3",
   "version": "3.10.18"
  }
 },
 "nbformat": 4,
 "nbformat_minor": 5
}
